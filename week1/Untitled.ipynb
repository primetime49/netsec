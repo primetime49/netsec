{
 "cells": [
  {
   "cell_type": "code",
   "execution_count": 2,
   "id": "52b51c3b",
   "metadata": {},
   "outputs": [],
   "source": [
    "lines = ['Readme', 'How to write text files in Python']\n",
    "with open('password3.lst', 'w') as f:\n",
    "    for d1 in [0,1,2,3,4,5,6,7,8,9]:\n",
    "        for d2 in [0,1,2,3,4,5,6,7,8,9]:\n",
    "            for d3 in [0,1,2,3,4,5,6,7,8,9]:\n",
    "                for d4 in [0,1,2,3,4,5,6,7,8,9]:\n",
    "                    for d5 in [0,1,2,3,4,5,6,7,8,9]:\n",
    "                        for d6 in [0,1,2,3,4,5,6,7,8,9]:\n",
    "                            for d7 in [0,1,2,3,4,5,6,7,8,9]:\n",
    "                                for d8 in [0,1,2,3,4,5,6,7,8,9]:\n",
    "                                    f.write(str(d1)+str(d2)+str(d3)+str(d4)+str(d5)+str(d6)+str(d7)+str(d8))\n",
    "                                    f.write('\\n')"
   ]
  }
 ],
 "metadata": {
  "kernelspec": {
   "display_name": "Python 3 (ipykernel)",
   "language": "python",
   "name": "python3"
  },
  "language_info": {
   "codemirror_mode": {
    "name": "ipython",
    "version": 3
   },
   "file_extension": ".py",
   "mimetype": "text/x-python",
   "name": "python",
   "nbconvert_exporter": "python",
   "pygments_lexer": "ipython3",
   "version": "3.8.10"
  }
 },
 "nbformat": 4,
 "nbformat_minor": 5
}
